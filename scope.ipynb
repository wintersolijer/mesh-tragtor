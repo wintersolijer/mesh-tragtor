{
 "cells": [
  {
   "cell_type": "markdown",
   "metadata": {},
   "source": [
    "# Scope"
   ]
  },
  {
   "cell_type": "markdown",
   "metadata": {},
   "source": [
    "- webapp mit Flask\n",
    "- pretty frontpage \n",
    "    - chatbot\n",
    "    - answers with source (RAG)\n",
    "    - summary conversation - with data (serial num, name, place, ...)\n",
    "        - data in user profile\n",
    "    --> contact support - give it the data\n",
    "    - show the support view"
   ]
  },
  {
   "cell_type": "markdown",
   "metadata": {},
   "source": [
    "## To Do "
   ]
  },
  {
   "cell_type": "markdown",
   "metadata": {},
   "source": [
    "- connecting LLM with python \n",
    "- setup milvus \n",
    "- frontpage - trumpf\n",
    "- support view dashbord view "
   ]
  },
  {
   "cell_type": "markdown",
   "metadata": {},
   "source": [
    "## tasks"
   ]
  },
  {
   "cell_type": "markdown",
   "metadata": {},
   "source": [
    "- connecting LLM in a lokal python file - adam\n",
    "- setup milvus lokal and inject pdf \n",
    "- pretty trumpf frontpage\n",
    "- dashbord placeholder website - design and shit\n",
    "- connect everything"
   ]
  },
  {
   "cell_type": "markdown",
   "metadata": {},
   "source": []
  }
 ],
 "metadata": {
  "language_info": {
   "name": "python"
  }
 },
 "nbformat": 4,
 "nbformat_minor": 2
}
